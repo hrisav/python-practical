{
 "cells": [
  {
   "cell_type": "markdown",
   "metadata": {},
   "source": [
    "### Copying"
   ]
  },
  {
   "cell_type": "code",
   "execution_count": 7,
   "metadata": {},
   "outputs": [
    {
     "name": "stdout",
     "output_type": "stream",
     "text": [
      "{'2': 'ind', '5': 'bang', '3': 'pak', '7': 'afg'}\n",
      "{'2': 'ind', '5': 'bang', '3': 'pak', '7': 'afg'}\n"
     ]
    }
   ],
   "source": [
    "# updating in copied dict, updates in main dict too\n",
    "\n",
    "d1 = {'2':'ind','5':'bang','3':'pak'}\n",
    "d2 = d1\n",
    "d2.update({'7':'afg'})\n",
    "print(d1)\n",
    "print(d2)"
   ]
  },
  {
   "cell_type": "code",
   "execution_count": 8,
   "metadata": {},
   "outputs": [
    {
     "name": "stdout",
     "output_type": "stream",
     "text": [
      "{'2': 'ind', '5': 'bang', '3': 'pak', '7': 'afg'}\n",
      "{'2': 'ind', '5': 'bang', '3': 'pak', '7': 'afg'}\n"
     ]
    }
   ],
   "source": [
    "# updating in copied dict, updates in main dict too\n",
    "\n",
    "d1 = {'2':'ind','5':'bang','3':'pak'}\n",
    "d2 = d1\n",
    "d1.update({'7':'afg'})\n",
    "print(d1)\n",
    "print(d2)"
   ]
  },
  {
   "cell_type": "code",
   "execution_count": 9,
   "metadata": {},
   "outputs": [
    {
     "name": "stdout",
     "output_type": "stream",
     "text": [
      "{'2': 'ind', '5': 'bang', '3': 'pak'}\n",
      "{'2': 'ind', '5': 'bang', '3': 'pak', '7': 'afg'}\n"
     ]
    }
   ],
   "source": [
    "# so use copy()\n",
    "\n",
    "d1 = {'2':'ind','5':'bang','3':'pak'}\n",
    "d2 = d1.copy()\n",
    "d2.update({'7':'afg'})\n",
    "print(d1)\n",
    "print(d2)"
   ]
  },
  {
   "cell_type": "code",
   "execution_count": 10,
   "metadata": {},
   "outputs": [
    {
     "name": "stdout",
     "output_type": "stream",
     "text": [
      "{'2': 'ind', '5': 'bang', '3': 'pak', '7': 'afg'}\n",
      "{'2': 'ind', '5': 'bang', '3': 'pak'}\n"
     ]
    }
   ],
   "source": [
    "d1 = {'2':'ind','5':'bang','3':'pak'}\n",
    "d2 = d1.copy()\n",
    "d1.update({'7':'afg'})\n",
    "print(d1)\n",
    "print(d2)"
   ]
  },
  {
   "cell_type": "markdown",
   "metadata": {},
   "source": [
    "### fromKeys"
   ]
  },
  {
   "cell_type": "code",
   "execution_count": 104,
   "metadata": {},
   "outputs": [
    {
     "data": {
      "text/plain": [
       "{0: 7, 1: 7, 2: 7, 3: 7}"
      ]
     },
     "execution_count": 104,
     "metadata": {},
     "output_type": "execute_result"
    }
   ],
   "source": [
    "# update all keys with same value\n",
    "\n",
    "keys = range(4)\n",
    "values = 7\n",
    "\n",
    "dict.fromkeys(keys, values)"
   ]
  },
  {
   "cell_type": "markdown",
   "metadata": {},
   "source": [
    "### Getting Dict values"
   ]
  },
  {
   "cell_type": "code",
   "execution_count": 6,
   "metadata": {},
   "outputs": [
    {
     "name": "stdout",
     "output_type": "stream",
     "text": [
      "a\n",
      "b\n",
      "c\n",
      "d\n",
      "{0: 'a', 1: 'b', 2: 'c', 3: 'd'}\n"
     ]
    }
   ],
   "source": [
    "dicts = {}\n",
    "keys = range(4)\n",
    "#values = ['ind','bang','nep','bhut']\n",
    "\n",
    "for k in range(4):\n",
    "    values[k]=input()\n",
    "\n",
    "for i in keys:\n",
    "    dicts[i]=values[i]\n",
    "\n",
    "print(dicts)"
   ]
  },
  {
   "cell_type": "code",
   "execution_count": 22,
   "metadata": {},
   "outputs": [
    {
     "data": {
      "text/plain": [
       "{0: 'ind', 1: 'bang', 2: 'nep', 3: 'bhut'}"
      ]
     },
     "execution_count": 22,
     "metadata": {},
     "output_type": "execute_result"
    }
   ],
   "source": [
    "keys = range(4)\n",
    "values = ['ind','bang','nep','bhut']\n",
    "\n",
    "dict(zip(keys, values))"
   ]
  },
  {
   "cell_type": "markdown",
   "metadata": {},
   "source": [
    "### Accessing Elements"
   ]
  },
  {
   "cell_type": "code",
   "execution_count": 67,
   "metadata": {},
   "outputs": [
    {
     "name": "stdout",
     "output_type": "stream",
     "text": [
      "bang\n",
      "bang\n"
     ]
    }
   ],
   "source": [
    "d1 = {'2':'ind','5':'bang','3':'pak'}\n",
    "print(d1['5'])\n",
    "print(d1.get('5'))"
   ]
  },
  {
   "cell_type": "code",
   "execution_count": 68,
   "metadata": {
    "scrolled": true
   },
   "outputs": [
    {
     "name": "stdout",
     "output_type": "stream",
     "text": [
      "5\n"
     ]
    }
   ],
   "source": [
    "d1 = {'2':'ind','5':'bang','3':'pak'}\n",
    "for i, j in d1.items():\n",
    "    if j == 'bang':\n",
    "        print(i)"
   ]
  },
  {
   "cell_type": "markdown",
   "metadata": {},
   "source": [
    "### Sorting Dict"
   ]
  },
  {
   "cell_type": "code",
   "execution_count": 23,
   "metadata": {},
   "outputs": [
    {
     "data": {
      "text/plain": [
       "{5: 'ind', 3: 'bang', 6: 'nep', 8: 'bhut'}"
      ]
     },
     "execution_count": 23,
     "metadata": {},
     "output_type": "execute_result"
    }
   ],
   "source": [
    "keys = [5,3,6,8]\n",
    "values = ['ind','bang','nep','bhut']\n",
    "\n",
    "d1 = dict(zip(keys, values))\n",
    "d1"
   ]
  },
  {
   "cell_type": "code",
   "execution_count": 24,
   "metadata": {},
   "outputs": [
    {
     "data": {
      "text/plain": [
       "['bang', 'bhut', 'ind', 'nep']"
      ]
     },
     "execution_count": 24,
     "metadata": {},
     "output_type": "execute_result"
    }
   ],
   "source": [
    "sorted(d1.values())"
   ]
  },
  {
   "cell_type": "code",
   "execution_count": 25,
   "metadata": {},
   "outputs": [
    {
     "data": {
      "text/plain": [
       "[(3, 'bang'), (5, 'ind'), (6, 'nep'), (8, 'bhut')]"
      ]
     },
     "execution_count": 25,
     "metadata": {},
     "output_type": "execute_result"
    }
   ],
   "source": [
    "sorted(d1.items())"
   ]
  },
  {
   "cell_type": "code",
   "execution_count": 26,
   "metadata": {},
   "outputs": [
    {
     "data": {
      "text/plain": [
       "[3, 5, 6, 8]"
      ]
     },
     "execution_count": 26,
     "metadata": {},
     "output_type": "execute_result"
    }
   ],
   "source": [
    "sorted(d1.keys())"
   ]
  },
  {
   "cell_type": "markdown",
   "metadata": {},
   "source": [
    "### Adding Key and Value"
   ]
  },
  {
   "cell_type": "code",
   "execution_count": 66,
   "metadata": {},
   "outputs": [
    {
     "name": "stdout",
     "output_type": "stream",
     "text": [
      "{'2': 'ind', '5': 'bang', '3': 'pak', '7': 'sl'}\n"
     ]
    }
   ],
   "source": [
    "d1 = {'2':'ind','5':'bang','3':'pak'}\n",
    "d1['7'] = 'sl'\n",
    "print(d1)"
   ]
  },
  {
   "cell_type": "code",
   "execution_count": 11,
   "metadata": {},
   "outputs": [
    {
     "name": "stdout",
     "output_type": "stream",
     "text": [
      "{'2': 'ind', '5': 'bang', '3': 'pak', '7': 'sl'}\n"
     ]
    }
   ],
   "source": [
    "d1 = {'2':'ind','5':'bang','3':'pak'}\n",
    "d1.update({'7':'sl'})\n",
    "print(d1)"
   ]
  },
  {
   "cell_type": "code",
   "execution_count": 12,
   "metadata": {},
   "outputs": [
    {
     "name": "stdout",
     "output_type": "stream",
     "text": [
      "{'2': 'ind', '5': 'myan', '3': 'pak', '7': 'sl'}\n"
     ]
    }
   ],
   "source": [
    "d1.update({'5':'myan'})\n",
    "print(d1)"
   ]
  },
  {
   "cell_type": "markdown",
   "metadata": {},
   "source": [
    "### Concat Dicts"
   ]
  },
  {
   "cell_type": "code",
   "execution_count": 35,
   "metadata": {},
   "outputs": [
    {
     "data": {
      "text/plain": [
       "{1: 10, 2: 20, 3: 30, 4: 40, 5: 50, 6: 60}"
      ]
     },
     "execution_count": 35,
     "metadata": {},
     "output_type": "execute_result"
    }
   ],
   "source": [
    "d1={1:10, 2:20}\n",
    "d2={3:30, 4:40}\n",
    "d3={5:50, 6:60}\n",
    "\n",
    "d4={}\n",
    "\n",
    "for i in [d1,d2,d3]:\n",
    "    d4.update(i)\n",
    "\n",
    "d4"
   ]
  },
  {
   "cell_type": "markdown",
   "metadata": {},
   "source": [
    "### Iterate Dicts"
   ]
  },
  {
   "cell_type": "code",
   "execution_count": 44,
   "metadata": {},
   "outputs": [
    {
     "name": "stdout",
     "output_type": "stream",
     "text": [
      "2 -> ind\n",
      "5 -> bang\n",
      "3 -> pak\n"
     ]
    }
   ],
   "source": [
    "d1 = {'2':'ind','5':'bang','3':'pak'}\n",
    "for i,j in d1.items():\n",
    "    print(i,\"->\",j)"
   ]
  },
  {
   "cell_type": "code",
   "execution_count": 48,
   "metadata": {},
   "outputs": [
    {
     "name": "stdout",
     "output_type": "stream",
     "text": [
      "('2', 'ind')\n",
      "('5', 'bang')\n",
      "('3', 'pak')\n"
     ]
    }
   ],
   "source": [
    "d1 = {'2':'ind','5':'bang','3':'pak'}\n",
    "for i in d1.items():\n",
    "    print(i)"
   ]
  },
  {
   "cell_type": "code",
   "execution_count": 49,
   "metadata": {},
   "outputs": [
    {
     "name": "stdout",
     "output_type": "stream",
     "text": [
      "2 ind\n",
      "5 bang\n",
      "3 pak\n"
     ]
    }
   ],
   "source": [
    "d1  = {'2':'ind','5':'bang','3':'pak'}\n",
    "for i in d1 : \n",
    "    print(i, d1[i]) "
   ]
  },
  {
   "cell_type": "markdown",
   "metadata": {},
   "source": [
    "### Values are square of Keys"
   ]
  },
  {
   "cell_type": "code",
   "execution_count": 71,
   "metadata": {},
   "outputs": [
    {
     "name": "stdout",
     "output_type": "stream",
     "text": [
      "{1: 1, 2: 4, 3: 9, 4: 16, 5: 25}\n"
     ]
    }
   ],
   "source": [
    "d = dict()\n",
    "\n",
    "for x in range(1,6):\n",
    "    d[x]=x*x\n",
    "\n",
    "print(d) "
   ]
  },
  {
   "cell_type": "markdown",
   "metadata": {},
   "source": [
    "### Remove duplicates from Dict"
   ]
  },
  {
   "cell_type": "code",
   "execution_count": 76,
   "metadata": {},
   "outputs": [
    {
     "name": "stdout",
     "output_type": "stream",
     "text": [
      "{'2': 'ind', '5': 'bang', '3': 'pak'}\n"
     ]
    }
   ],
   "source": [
    "t1={}\n",
    "d1 = {'2':'ind','5':'bang','3':'pak','4':'bang'}\n",
    "for i, j in d1.items():\n",
    "    if j not in t1.values():\n",
    "        t1[i]=j\n",
    "print(t1)"
   ]
  },
  {
   "cell_type": "markdown",
   "metadata": {},
   "source": [
    "### Count total num of marks"
   ]
  },
  {
   "cell_type": "code",
   "execution_count": 98,
   "metadata": {},
   "outputs": [
    {
     "name": "stdout",
     "output_type": "stream",
     "text": [
      "240\n"
     ]
    }
   ],
   "source": [
    "student = [{'subject': 'Maths', 'marks': 90},\n",
    "           {'subject': 'Economics', 'marks': 80},\n",
    "           {'subject': 'Statistics', 'marks': 70}]\n",
    "print(sum(d1['marks'] for d1 in student))"
   ]
  },
  {
   "cell_type": "markdown",
   "metadata": {},
   "source": [
    "### Remove key value pair if value is even"
   ]
  },
  {
   "cell_type": "code",
   "execution_count": 106,
   "metadata": {},
   "outputs": [
    {
     "data": {
      "text/plain": [
       "{'5': 456}"
      ]
     },
     "execution_count": 106,
     "metadata": {},
     "output_type": "execute_result"
    }
   ],
   "source": [
    "d1 = {'2':123,'5':456,'3':789}\n",
    "d2 = {}\n",
    "for i,j in d1.items():\n",
    "    if j%2==0:\n",
    "        d2.update({i:j})\n",
    "d2"
   ]
  },
  {
   "cell_type": "markdown",
   "metadata": {},
   "source": [
    "### Average grade given a dictionary containing student records"
   ]
  },
  {
   "cell_type": "code",
   "execution_count": 15,
   "metadata": {},
   "outputs": [
    {
     "name": "stdout",
     "output_type": "stream",
     "text": [
      "The average grade is: 3.62\n"
     ]
    }
   ],
   "source": [
    "students = {'1':{'name':'Bob','grade':2.5},\n",
    "            '2':{'name':'Mary','grade':3.5},\n",
    "            '3':{'name':'David','grade':4.2},\n",
    "            '4':{'name':'John','grade':4.1},\n",
    "            '5':{'name':'Alex','grade':3.8}}\n",
    "\n",
    "def averageGrade(students):\n",
    "    sum=0.0\n",
    "    for key in students:\n",
    "        sum = sum + students[key]['grade']\n",
    "    average=sum/len(students)\n",
    "    return average\n",
    "\n",
    "avg=averageGrade(students)\n",
    "print (\"The average grade is: %0.2f\" % (avg))"
   ]
  }
 ],
 "metadata": {
  "kernelspec": {
   "display_name": "Python 3",
   "language": "python",
   "name": "python3"
  },
  "language_info": {
   "codemirror_mode": {
    "name": "ipython",
    "version": 3
   },
   "file_extension": ".py",
   "mimetype": "text/x-python",
   "name": "python",
   "nbconvert_exporter": "python",
   "pygments_lexer": "ipython3",
   "version": "3.8.2"
  }
 },
 "nbformat": 4,
 "nbformat_minor": 4
}
