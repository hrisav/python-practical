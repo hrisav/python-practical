{
 "cells": [
  {
   "cell_type": "markdown",
   "metadata": {},
   "source": [
    "### Swap first and last element of the list\n",
    "\n",
    "Input : [12, 35, 9, 56, 24]\n",
    "\n",
    "Output : [24, 35, 9, 56, 12]\n",
    "\n",
    "Input : [1, 2, 3]\n",
    "\n",
    "Output : [3, 2, 1]"
   ]
  },
  {
   "cell_type": "code",
   "execution_count": 24,
   "metadata": {
    "scrolled": true
   },
   "outputs": [
    {
     "name": "stdout",
     "output_type": "stream",
     "text": [
      "Enter length of list: 5\n",
      "12\n",
      "35\n",
      "9\n",
      "56\n",
      "24\n",
      "[24, 35, 9, 56, 12]\n"
     ]
    }
   ],
   "source": [
    "l1=list()\n",
    "n=int(input(\"Enter length of list: \"))\n",
    "for i in range(n):\n",
    "    l1.append(int(input()))\n",
    "\n",
    "for i in l1:\n",
    "    temp=l1[0]\n",
    "    l1[0]=l1[n-1]\n",
    "    l1[n-1]=temp\n",
    "\n",
    "print(l1)"
   ]
  },
  {
   "cell_type": "markdown",
   "metadata": {},
   "source": [
    "### List Min Max"
   ]
  },
  {
   "cell_type": "code",
   "execution_count": 34,
   "metadata": {},
   "outputs": [
    {
     "name": "stdout",
     "output_type": "stream",
     "text": [
      "None\n",
      "None\n"
     ]
    }
   ],
   "source": [
    "l=[3,4,2,6]\n",
    "\n",
    "n=len(l)\n",
    "\n",
    "def maxm(l):\n",
    "    for i in range(0,n-1):\n",
    "        if l[i]>l[i+1]:\n",
    "            max=l[i]\n",
    "        else:\n",
    "            max=l[i+1]\n",
    "\n",
    "def minm(l):\n",
    "    for i in range(0,n-1):\n",
    "        if l[i]<l[i+1]:\n",
    "            min=l[i]\n",
    "        else:\n",
    "            min=l[i+1]\n",
    "\n",
    "print(maxm(l))\n",
    "print(minm(l))\n",
    "\n",
    "\n",
    "# list1.sort() \n",
    "# print(\"Largest element is:\", list1[-1]) \n"
   ]
  },
  {
   "cell_type": "markdown",
   "metadata": {},
   "source": [
    "### N Highest in List\n",
    "\n",
    "Input : [4, 5, 1, 2, 9] \n",
    "         N = 2\n",
    "\n",
    "Output :  [9, 5]\n",
    "\n",
    "Input : [81, 52, 45, 10, 3, 2, 96] \n",
    "        N = 3\n",
    "\n",
    "Output : [81, 96, 52]"
   ]
  },
  {
   "cell_type": "code",
   "execution_count": null,
   "metadata": {},
   "outputs": [],
   "source": [
    "def func1(l1, n):\n",
    "    l2=[]\n",
    "    for i in range(n):\n",
    "        max1=0\n",
    "        for j in range(len(l1)):\n",
    "            if l1[j]>max1:\n",
    "                max1=l1[j]\n",
    "        l1.remove(max1)\n",
    "        l2.append(max1)\n",
    "    print(l2)\n",
    "\n",
    "l1=[4, 5, 1, 2, 9] \n",
    "func1(l1,2)"
   ]
  },
  {
   "cell_type": "markdown",
   "metadata": {},
   "source": [
    "### Unique Elements of List"
   ]
  },
  {
   "cell_type": "code",
   "execution_count": 1,
   "metadata": {},
   "outputs": [
    {
     "name": "stdout",
     "output_type": "stream",
     "text": [
      "Enter length of list: 4\n",
      "2\n",
      "3\n",
      "4\n",
      "2\n",
      "Original list:  [2, 3, 4, 2]\n",
      "Final list:  [2, 3, 4]\n"
     ]
    }
   ],
   "source": [
    "n=int(input(\"Enter length of list: \"))\n",
    "l1=[]\n",
    "l2=[]\n",
    "\n",
    "for i in range(0,n):\n",
    "    s=int(input())\n",
    "    l1.append(s)\n",
    "print(\"Original list: \",l1)\n",
    "\n",
    "\n",
    "for i in l1:\n",
    "    if i not in l2:\n",
    "        l2.append(i)\n",
    "\n",
    "print(\"Final list: \",l2)"
   ]
  },
  {
   "cell_type": "markdown",
   "metadata": {},
   "source": [
    "### Odd/Even numbers of List"
   ]
  },
  {
   "cell_type": "code",
   "execution_count": null,
   "metadata": {},
   "outputs": [],
   "source": [
    "l1=[]\n",
    "even=[]\n",
    "odd=[]\n",
    "\n",
    "print(\"Enter 6 numbers: \")\n",
    "for i in range(0,6):\n",
    "    s=int(input())\n",
    "    l1.append(s)\n",
    "print(\"Original list: \",l1)\n",
    "\n",
    "\n",
    "for i in l1:\n",
    "    if i%2==0:\n",
    "        even.append(i)\n",
    "    else:\n",
    "        odd.append(i)\n",
    "\n",
    "print(\"Even list: \",even)\n",
    "print(\"Odd list: \",odd)"
   ]
  }
 ],
 "metadata": {
  "kernelspec": {
   "display_name": "Python 3",
   "language": "python",
   "name": "python3"
  },
  "language_info": {
   "codemirror_mode": {
    "name": "ipython",
    "version": 3
   },
   "file_extension": ".py",
   "mimetype": "text/x-python",
   "name": "python",
   "nbconvert_exporter": "python",
   "pygments_lexer": "ipython3",
   "version": "3.8.2"
  }
 },
 "nbformat": 4,
 "nbformat_minor": 4
}
