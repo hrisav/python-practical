{
  "nbformat": 4,
  "nbformat_minor": 0,
  "metadata": {
    "kernelspec": {
      "display_name": "Python 3",
      "language": "python",
      "name": "python3"
    },
    "language_info": {
      "codemirror_mode": {
        "name": "ipython",
        "version": 3
      },
      "file_extension": ".py",
      "mimetype": "text/x-python",
      "name": "python",
      "nbconvert_exporter": "python",
      "pygments_lexer": "ipython3",
      "version": "3.8.2"
    },
    "colab": {
      "name": "Python Practice Programs.ipynb",
      "provenance": [],
      "toc_visible": true
    }
  },
  "cells": [
    {
      "cell_type": "markdown",
      "metadata": {
        "id": "mt0HhPTV0NzH"
      },
      "source": [
        "### Index\n",
        "Palindrome or not\n",
        "\n",
        "Reverse words in given string\n",
        "\n",
        "Remove 3rd character from string\n",
        "\n",
        "Armstrong Number\n",
        "\n",
        "Fibonacci\n",
        "\n",
        "HCF LCM\n",
        "\n",
        "Prime or Composite\n",
        "\n",
        "Prime Factors\n",
        "\n",
        "Factorial\n",
        "\n",
        "Perfect Numbers"
      ]
    },
    {
      "cell_type": "markdown",
      "metadata": {
        "id": "Oh4WY5_00NzM"
      },
      "source": [
        "### Palindrome or not\n",
        "\n",
        "Input : malayalam\n",
        "\n",
        "Output : Yes\n",
        "\n",
        "Input : geeks\n",
        "\n",
        "Output : No"
      ]
    },
    {
      "cell_type": "code",
      "metadata": {
        "colab": {
          "base_uri": "https://localhost:8080/"
        },
        "id": "9IdFxLAG0NzN",
        "outputId": "48b1a038-d051-4ac3-b872-1676d88c8f12"
      },
      "source": [
        "c=input()\n",
        "n=len(c)-1\n",
        "for i in range(n+1):\n",
        "    if c[i] == c[n-i]:\n",
        "        flag=1\n",
        "        continue\n",
        "    else:\n",
        "        flag=2\n",
        "        break\n",
        "if(flag==1):\n",
        "    print(\"Yes\")\n",
        "else:\n",
        "    print(\"No\")\n"
      ],
      "execution_count": 1,
      "outputs": [
        {
          "output_type": "stream",
          "text": [
            "malayalam\n",
            "Yes\n"
          ],
          "name": "stdout"
        }
      ]
    },
    {
      "cell_type": "code",
      "metadata": {
        "colab": {
          "base_uri": "https://localhost:8080/"
        },
        "id": "kVj0b_1I0NzP",
        "outputId": "b8f239f9-be50-4c10-dd89-1fa9985de37c"
      },
      "source": [
        "def isPalindrome(s):\n",
        "    return s == s[::-1]           # list[<start>:<stop>:<step>] -> here step is in reverse\n",
        " \n",
        "s = \"malayalam\"\n",
        "ans = isPalindrome(s)\n",
        " \n",
        "if ans:\n",
        "    print(\"Yes\")\n",
        "else:\n",
        "    print(\"No\")"
      ],
      "execution_count": 2,
      "outputs": [
        {
          "output_type": "stream",
          "text": [
            "Yes\n"
          ],
          "name": "stdout"
        }
      ]
    },
    {
      "cell_type": "markdown",
      "metadata": {
        "id": "zKkmUdas0NzP"
      },
      "source": [
        "### Reverse words in given string\n",
        "\n",
        "Input : str = \"geeks quiz practice code\"\n",
        "\n",
        "Output : str = \"code practice quiz geeks\""
      ]
    },
    {
      "cell_type": "code",
      "metadata": {
        "colab": {
          "base_uri": "https://localhost:8080/"
        },
        "id": "OXyHG-pq0NzQ",
        "outputId": "2bea6aca-c8da-474f-98b5-1d798774ba82"
      },
      "source": [
        "str1 = \"geeks quiz practice code\"\n",
        "str2= \"\"\n",
        "l1 = str1.split()\n",
        "n = len(l1)\n",
        "l2=[]\n",
        "for i in range(n):\n",
        "    l2.append(l1[n-i-1])\n",
        "    l2.append(' ')\n",
        "for i in l2:\n",
        "    str2=str2+i\n",
        "str2.rstrip(\" \")\n",
        "print(str2)\n"
      ],
      "execution_count": 3,
      "outputs": [
        {
          "output_type": "stream",
          "text": [
            "code practice quiz geeks \n"
          ],
          "name": "stdout"
        }
      ]
    },
    {
      "cell_type": "markdown",
      "metadata": {
        "id": "TtCW851w0NzQ"
      },
      "source": [
        "### Remove 3rd character from string\n",
        "\n",
        "The original string is : GeeksForGeeks\n",
        "\n",
        "After removal of 3rd character : GeksForGeeks"
      ]
    },
    {
      "cell_type": "code",
      "metadata": {
        "colab": {
          "base_uri": "https://localhost:8080/"
        },
        "id": "IN0ZhUcM0NzR",
        "outputId": "ebe989e7-1041-4189-f3dd-0dcdb504dc57"
      },
      "source": [
        "s = \"GeeksForGeeks\"\n",
        "str1 = \"\"\n",
        "for i in range(len(s)):\n",
        "    if i != 2:\n",
        "        str1 = str1 + s[i]\n",
        "print(str1)"
      ],
      "execution_count": 4,
      "outputs": [
        {
          "output_type": "stream",
          "text": [
            "GeksForGeeks\n"
          ],
          "name": "stdout"
        }
      ]
    },
    {
      "cell_type": "code",
      "metadata": {
        "colab": {
          "base_uri": "https://localhost:8080/"
        },
        "id": "wv1wyXaC0NzR",
        "outputId": "b2c7b055-945e-4f4e-bff7-5f7128fa6e67"
      },
      "source": [
        "test_str = \"GeeksForGeeks\"\n",
        "new_str = test_str[:2] +  test_str[3:] \n",
        "print (new_str)"
      ],
      "execution_count": 5,
      "outputs": [
        {
          "output_type": "stream",
          "text": [
            "GeksForGeeks\n"
          ],
          "name": "stdout"
        }
      ]
    },
    {
      "cell_type": "markdown",
      "metadata": {
        "id": "7npt0xDv0NzS"
      },
      "source": [
        "### Armstrong Number\n",
        "\n",
        "\n",
        "\n",
        "Input : 153\n",
        "\n",
        "Output : Yes\n",
        "\n",
        "153 is an Armstrong number.\n",
        "\n",
        "1 * 1 * 1 + 5 * 5 * 5 + 3 * 3 * 3 = 153\n",
        "\n",
        "Input : 1253\n",
        "\n",
        "Output : No\n",
        "\n",
        "1253 is not a Armstrong Number\n",
        "\n",
        "1 * 1 * 1 * 1 + 2 * 2 * 2 * 2 + 5 * 5 * 5 * 5 + 3 * 3 * 3 * 3 = 723"
      ]
    },
    {
      "cell_type": "code",
      "metadata": {
        "colab": {
          "base_uri": "https://localhost:8080/"
        },
        "id": "Il08Pbuk0NzS",
        "outputId": "a543c637-3a31-40dc-9b3f-3f4514f631ae"
      },
      "source": [
        "a1= int(input(\"Enter num: \"))\n",
        "n= int(len(str(a1)))\n",
        "sum=0\n",
        "a=a1\n",
        "\n",
        "while(a>0):\n",
        "    m=a%10\n",
        "    t=m**n      #or use pow(m,n)\n",
        "    sum=sum+t\n",
        "    a=a//10     #floor division\n",
        "\n",
        "if sum==a1:\n",
        "    print(\"Armstrong Number\")\n",
        "else:\n",
        "    print(\"Not Armstrong Number\")"
      ],
      "execution_count": 6,
      "outputs": [
        {
          "output_type": "stream",
          "text": [
            "Enter num: 153\n",
            "Armstrong Number\n"
          ],
          "name": "stdout"
        }
      ]
    },
    {
      "cell_type": "markdown",
      "metadata": {
        "id": "UhaXyUyB0NzT"
      },
      "source": [
        "### Fibonacci"
      ]
    },
    {
      "cell_type": "code",
      "metadata": {
        "colab": {
          "base_uri": "https://localhost:8080/"
        },
        "id": "GndUz96W0NzT",
        "outputId": "dc1ab8d8-9dbe-4913-80b1-18456a34de6a"
      },
      "source": [
        "n = int(input(\"Enter the nth value: \"))\n",
        "a = 0\n",
        "b = 1\n",
        "sum = 0\n",
        "print(\"Fibonacci Series : \", end = \" \")\n",
        "while(sum <= n):\n",
        "     print(sum, end = \" \")\n",
        "     a = b\n",
        "     b = sum\n",
        "     sum = a + b"
      ],
      "execution_count": 8,
      "outputs": [
        {
          "output_type": "stream",
          "text": [
            "Enter the nth value: 15\n",
            "Fibonacci Series :  0 1 1 2 3 5 8 13 "
          ],
          "name": "stdout"
        }
      ]
    },
    {
      "cell_type": "markdown",
      "metadata": {
        "id": "LsDbn-yh0NzU"
      },
      "source": [
        "### HCF LCM\n",
        "\n",
        "18=2x3x3\n",
        "\n",
        "24=2x2x2x3\n",
        "\n",
        "HCF=2x3\n",
        "\n",
        "LCM=2x2x2x3x3"
      ]
    },
    {
      "cell_type": "code",
      "metadata": {
        "id": "aNV_6xbs0NzV",
        "outputId": "052a2c35-b0f5-40f8-efe5-de6acd1d4311"
      },
      "source": [
        "def hcf(a,b):\n",
        "\n",
        "    if(a>b):\n",
        "        smaller=b\n",
        "    else:\n",
        "        smaller=a\n",
        "\n",
        "    for i in range(1, int(smaller)+1):\n",
        "        if(a%i==0 and b%i==0):\n",
        "            hcf1=i\n",
        "\n",
        "    return hcf1\n",
        "\n",
        "def lcm(a,b):\n",
        "\n",
        "    lcm1=(a*b)/hcf(a,b)\n",
        "\n",
        "    return int(lcm1)\n",
        "\n",
        "a=int(input(\"Enter 1st number: \"))\n",
        "b=int(input(\"Enter 2nd number: \"))\n",
        "print(\"HCF of 2 numbers = \",hcf(a,b))\n",
        "print(\"LCM of 2 numbers = \",lcm(a,b))"
      ],
      "execution_count": null,
      "outputs": [
        {
          "output_type": "stream",
          "text": [
            "Enter 1st number: 14\n",
            "Enter 2nd number: 7\n",
            "HCF of 2 numbers =  7\n",
            "LCM of 2 numbers =  14\n"
          ],
          "name": "stdout"
        }
      ]
    },
    {
      "cell_type": "markdown",
      "metadata": {
        "id": "sQgNiH1y0NzV"
      },
      "source": [
        "### Prime or Composite\n",
        "\n",
        "If number divisible by any number from 2 to n-1 then it is composite\n"
      ]
    },
    {
      "cell_type": "code",
      "metadata": {
        "colab": {
          "base_uri": "https://localhost:8080/"
        },
        "id": "QgxByceb0NzW",
        "outputId": "2fb6deca-6890-4464-807f-f382d7fe9217"
      },
      "source": [
        "n1 = int(input(\"Enter a number: \"))\n",
        "\n",
        "i=2\n",
        "flag=0\n",
        "\n",
        "while(i<n1):\n",
        "    if(n1%i == 0):\n",
        "        flag=1\n",
        "        break\n",
        "    else:\n",
        "        i=i+1\n",
        "\n",
        "if n1 == 0 or n1 == 1:\n",
        "    print(\"Number is Neither Prime Nor Composite\")\n",
        "else:\n",
        "    if flag==1:\n",
        "        print(\"Number is Composite\")\n",
        "    else:\n",
        "        print(\"Number is Prime\")"
      ],
      "execution_count": 10,
      "outputs": [
        {
          "output_type": "stream",
          "text": [
            "Enter a number: 7\n",
            "Number is Prime\n"
          ],
          "name": "stdout"
        }
      ]
    },
    {
      "cell_type": "markdown",
      "metadata": {
        "id": "2R4a4ycJ0NzW"
      },
      "source": [
        "### Prime Factors\n",
        "\n",
        "18=2x3x3"
      ]
    },
    {
      "cell_type": "code",
      "metadata": {
        "id": "p5ILyU1a0NzW",
        "outputId": "5e3b9dda-03aa-4db9-82e5-05e224a0832e"
      },
      "source": [
        "n = int(input(\"Enter a number: \"))\n",
        "list1=[]\n",
        "\n",
        "while (n%2 == 0):\n",
        "    list1.append(2)\n",
        "    n=n/2\n",
        "\n",
        "for i in range (3, int(n+1)):\n",
        "\n",
        "    while (n%i == 0):\n",
        "        list1.append(i)\n",
        "        n=n/i\n",
        "\n",
        "print(list1)"
      ],
      "execution_count": null,
      "outputs": [
        {
          "output_type": "stream",
          "text": [
            "Enter a number: 630\n",
            "[2, 3, 3, 5, 7]\n"
          ],
          "name": "stdout"
        }
      ]
    },
    {
      "cell_type": "code",
      "metadata": {
        "id": "tVfZHSNw0NzX",
        "outputId": "9c55a90a-992f-4440-fbd2-218a84f6689a"
      },
      "source": [
        "def prime_fac(num):\n",
        "    list1=[]\n",
        "    divisor=2\n",
        "    while divisor<=num:\n",
        "        if num%divisor == 0:\n",
        "            list1.append(divisor)\n",
        "            num=num/divisor\n",
        "        else:\n",
        "            divisor += 1\n",
        "    return list1\n",
        "\n",
        "print(prime_fac(630))"
      ],
      "execution_count": null,
      "outputs": [
        {
          "output_type": "stream",
          "text": [
            "[2, 3, 3, 5, 7]\n"
          ],
          "name": "stdout"
        }
      ]
    },
    {
      "cell_type": "markdown",
      "metadata": {
        "id": "X93oxdMW0NzY"
      },
      "source": [
        "### Factorial"
      ]
    },
    {
      "cell_type": "code",
      "metadata": {
        "id": "-HQ_9Ma00NzY",
        "outputId": "ebeba466-cf40-4790-a084-776941398399"
      },
      "source": [
        "def fact(n):\n",
        "    if n==0:\n",
        "        return 1\n",
        "    else:\n",
        "        return (n)*fact(n-1)\n",
        "    \n",
        "num=int(input(\"Enter a number: \"))\n",
        "print(\"Factorial of\",num,\"is\",fact(num))"
      ],
      "execution_count": null,
      "outputs": [
        {
          "output_type": "stream",
          "text": [
            "Enter a number: 5\n",
            "Factorial of 5 is 120\n"
          ],
          "name": "stdout"
        }
      ]
    },
    {
      "cell_type": "code",
      "metadata": {
        "id": "ekMZWT5Z0NzZ",
        "outputId": "28b5c084-9572-4eaf-b475-313dd41aec5d"
      },
      "source": [
        "num=int(input(\"Enter a number: \"))\n",
        "fact=1\n",
        "\n",
        "for i in range(1,num+1):\n",
        "    fact=i*fact\n",
        "    \n",
        "print(\"Factorial of\",num,\"is\",fact)"
      ],
      "execution_count": null,
      "outputs": [
        {
          "output_type": "stream",
          "text": [
            "Enter a number: 5\n",
            "Factorial of 5 is 120\n"
          ],
          "name": "stdout"
        }
      ]
    },
    {
      "cell_type": "markdown",
      "metadata": {
        "id": "hPevHQ930NzZ"
      },
      "source": [
        "### Perfect Numbers\n",
        "Sum of its positive divisors excluding the number itself\n",
        "\n",
        "6 = 1,2,3,6 => 1+2+3 = 6 => Perfect Number\n",
        "\n",
        "4 = 1,2,4 => 1+2 = 3 => Not Perfect Number"
      ]
    },
    {
      "cell_type": "code",
      "metadata": {
        "id": "th8XU1Hs0NzZ",
        "outputId": "53a24c28-9b43-41d8-a1d7-701e37b03358"
      },
      "source": [
        "num=int(input(\"Enter a number: \"))\n",
        "result=0\n",
        "for i in range(1,num):\n",
        "    if (num%i)==0:\n",
        "        result=result+i\n",
        "        \n",
        "if result==num:\n",
        "    print(num,\"is a perfect number!\")\n",
        "else:\n",
        "    print(num,\"is not a perfect number!\")"
      ],
      "execution_count": null,
      "outputs": [
        {
          "output_type": "stream",
          "text": [
            "Enter a number: 6\n",
            "6 is a perfect number!\n"
          ],
          "name": "stdout"
        }
      ]
    }
  ]
}