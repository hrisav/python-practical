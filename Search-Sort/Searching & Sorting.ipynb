{
 "cells": [
  {
   "cell_type": "markdown",
   "metadata": {},
   "source": [
    "## Linear Search"
   ]
  },
  {
   "cell_type": "code",
   "execution_count": 28,
   "metadata": {},
   "outputs": [
    {
     "name": "stdout",
     "output_type": "stream",
     "text": [
      "Enter value to search : 50\n",
      "Element found at position :  5\n"
     ]
    }
   ],
   "source": [
    "def linear_search(list1, val):\n",
    "    for i in range(len(list1)):\n",
    "        if list1[i] == val:\n",
    "            print(\"Element found at position : \",i+1)\n",
    "            flag=0\n",
    "            break\n",
    "        else:\n",
    "            flag=1\n",
    "    if(flag==0):\n",
    "        pass\n",
    "    else:\n",
    "        print(\"Element not found!\")\n",
    "\n",
    "list1 = [10,20,30,40,50]\n",
    "val = int(input(\"Enter value to search : \"))\n",
    "linear_search(list1, val)     "
   ]
  },
  {
   "cell_type": "markdown",
   "metadata": {},
   "source": [
    "## Binary Search"
   ]
  },
  {
   "cell_type": "code",
   "execution_count": 29,
   "metadata": {},
   "outputs": [
    {
     "name": "stdout",
     "output_type": "stream",
     "text": [
      "Enter value to search: 30\n",
      "Element found at position :  3\n"
     ]
    }
   ],
   "source": [
    "def binary_search(list1, val):\n",
    "    low = 0\n",
    "    high = len(list)-1\n",
    "    \n",
    "    flag=0\n",
    "    while low<=high and flag==0:\n",
    "        mid = (high+low)//2\n",
    "        if (list1[mid]==val):\n",
    "            flag=1\n",
    "        elif val>list1[mid]:\n",
    "            low=mid+1\n",
    "        else:\n",
    "            high=mid-1\n",
    "    if flag==1:\n",
    "        print(\"Element found at position : \",mid+1)\n",
    "    else:\n",
    "        print(\"Element not found!\")\n",
    "    \n",
    "list1 = [10,20,30,40,50]\n",
    "list1.sort()\n",
    "\n",
    "val = int(input(\"Enter value to search: \"))\n",
    "binary_search(list1, val)     "
   ]
  },
  {
   "cell_type": "code",
   "execution_count": null,
   "metadata": {},
   "outputs": [],
   "source": []
  }
 ],
 "metadata": {
  "kernelspec": {
   "display_name": "Python 3",
   "language": "python",
   "name": "python3"
  },
  "language_info": {
   "codemirror_mode": {
    "name": "ipython",
    "version": 3
   },
   "file_extension": ".py",
   "mimetype": "text/x-python",
   "name": "python",
   "nbconvert_exporter": "python",
   "pygments_lexer": "ipython3",
   "version": "3.8.2"
  }
 },
 "nbformat": 4,
 "nbformat_minor": 4
}
